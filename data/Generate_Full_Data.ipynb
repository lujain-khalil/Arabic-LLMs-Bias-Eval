{
  "nbformat": 4,
  "nbformat_minor": 0,
  "metadata": {
    "colab": {
      "provenance": []
    },
    "kernelspec": {
      "name": "python3",
      "display_name": "Python 3"
    },
    "language_info": {
      "name": "python"
    }
  },
  "cells": [
    {
      "cell_type": "code",
      "execution_count": 9,
      "metadata": {
        "id": "I8l1O9mhW7g2"
      },
      "outputs": [],
      "source": [
        "import numpy as np\n",
        "import pandas as pd"
      ]
    },
    {
      "cell_type": "code",
      "source": [
        "file_path = \"/content/drive/MyDrive/Data Mining Project/New Data/sentiment_words.csv\"\n",
        "data = pd.read_csv(file_path)"
      ],
      "metadata": {
        "id": "K6k3OFaEYoG_"
      },
      "execution_count": 10,
      "outputs": []
    },
    {
      "cell_type": "code",
      "source": [
        "data.head()"
      ],
      "metadata": {
        "colab": {
          "base_uri": "https://localhost:8080/",
          "height": 206
        },
        "id": "7Y4mvFIYZHVC",
        "outputId": "0282696a-5a5f-4fee-cf1a-0cf82ee69d33"
      },
      "execution_count": 11,
      "outputs": [
        {
          "output_type": "execute_result",
          "data": {
            "text/plain": [
              "  sentiment  term\n",
              "0  positive  جميل\n",
              "1  positive  رائع\n",
              "2  positive  لذيذ\n",
              "3  positive  ملهم\n",
              "4  positive  ناجح"
            ],
            "text/html": [
              "\n",
              "  <div id=\"df-f568f62c-cee7-4f85-9de4-b23fba8672d3\" class=\"colab-df-container\">\n",
              "    <div>\n",
              "<style scoped>\n",
              "    .dataframe tbody tr th:only-of-type {\n",
              "        vertical-align: middle;\n",
              "    }\n",
              "\n",
              "    .dataframe tbody tr th {\n",
              "        vertical-align: top;\n",
              "    }\n",
              "\n",
              "    .dataframe thead th {\n",
              "        text-align: right;\n",
              "    }\n",
              "</style>\n",
              "<table border=\"1\" class=\"dataframe\">\n",
              "  <thead>\n",
              "    <tr style=\"text-align: right;\">\n",
              "      <th></th>\n",
              "      <th>sentiment</th>\n",
              "      <th>term</th>\n",
              "    </tr>\n",
              "  </thead>\n",
              "  <tbody>\n",
              "    <tr>\n",
              "      <th>0</th>\n",
              "      <td>positive</td>\n",
              "      <td>جميل</td>\n",
              "    </tr>\n",
              "    <tr>\n",
              "      <th>1</th>\n",
              "      <td>positive</td>\n",
              "      <td>رائع</td>\n",
              "    </tr>\n",
              "    <tr>\n",
              "      <th>2</th>\n",
              "      <td>positive</td>\n",
              "      <td>لذيذ</td>\n",
              "    </tr>\n",
              "    <tr>\n",
              "      <th>3</th>\n",
              "      <td>positive</td>\n",
              "      <td>ملهم</td>\n",
              "    </tr>\n",
              "    <tr>\n",
              "      <th>4</th>\n",
              "      <td>positive</td>\n",
              "      <td>ناجح</td>\n",
              "    </tr>\n",
              "  </tbody>\n",
              "</table>\n",
              "</div>\n",
              "    <div class=\"colab-df-buttons\">\n",
              "\n",
              "  <div class=\"colab-df-container\">\n",
              "    <button class=\"colab-df-convert\" onclick=\"convertToInteractive('df-f568f62c-cee7-4f85-9de4-b23fba8672d3')\"\n",
              "            title=\"Convert this dataframe to an interactive table.\"\n",
              "            style=\"display:none;\">\n",
              "\n",
              "  <svg xmlns=\"http://www.w3.org/2000/svg\" height=\"24px\" viewBox=\"0 -960 960 960\">\n",
              "    <path d=\"M120-120v-720h720v720H120Zm60-500h600v-160H180v160Zm220 220h160v-160H400v160Zm0 220h160v-160H400v160ZM180-400h160v-160H180v160Zm440 0h160v-160H620v160ZM180-180h160v-160H180v160Zm440 0h160v-160H620v160Z\"/>\n",
              "  </svg>\n",
              "    </button>\n",
              "\n",
              "  <style>\n",
              "    .colab-df-container {\n",
              "      display:flex;\n",
              "      gap: 12px;\n",
              "    }\n",
              "\n",
              "    .colab-df-convert {\n",
              "      background-color: #E8F0FE;\n",
              "      border: none;\n",
              "      border-radius: 50%;\n",
              "      cursor: pointer;\n",
              "      display: none;\n",
              "      fill: #1967D2;\n",
              "      height: 32px;\n",
              "      padding: 0 0 0 0;\n",
              "      width: 32px;\n",
              "    }\n",
              "\n",
              "    .colab-df-convert:hover {\n",
              "      background-color: #E2EBFA;\n",
              "      box-shadow: 0px 1px 2px rgba(60, 64, 67, 0.3), 0px 1px 3px 1px rgba(60, 64, 67, 0.15);\n",
              "      fill: #174EA6;\n",
              "    }\n",
              "\n",
              "    .colab-df-buttons div {\n",
              "      margin-bottom: 4px;\n",
              "    }\n",
              "\n",
              "    [theme=dark] .colab-df-convert {\n",
              "      background-color: #3B4455;\n",
              "      fill: #D2E3FC;\n",
              "    }\n",
              "\n",
              "    [theme=dark] .colab-df-convert:hover {\n",
              "      background-color: #434B5C;\n",
              "      box-shadow: 0px 1px 3px 1px rgba(0, 0, 0, 0.15);\n",
              "      filter: drop-shadow(0px 1px 2px rgba(0, 0, 0, 0.3));\n",
              "      fill: #FFFFFF;\n",
              "    }\n",
              "  </style>\n",
              "\n",
              "    <script>\n",
              "      const buttonEl =\n",
              "        document.querySelector('#df-f568f62c-cee7-4f85-9de4-b23fba8672d3 button.colab-df-convert');\n",
              "      buttonEl.style.display =\n",
              "        google.colab.kernel.accessAllowed ? 'block' : 'none';\n",
              "\n",
              "      async function convertToInteractive(key) {\n",
              "        const element = document.querySelector('#df-f568f62c-cee7-4f85-9de4-b23fba8672d3');\n",
              "        const dataTable =\n",
              "          await google.colab.kernel.invokeFunction('convertToInteractive',\n",
              "                                                    [key], {});\n",
              "        if (!dataTable) return;\n",
              "\n",
              "        const docLinkHtml = 'Like what you see? Visit the ' +\n",
              "          '<a target=\"_blank\" href=https://colab.research.google.com/notebooks/data_table.ipynb>data table notebook</a>'\n",
              "          + ' to learn more about interactive tables.';\n",
              "        element.innerHTML = '';\n",
              "        dataTable['output_type'] = 'display_data';\n",
              "        await google.colab.output.renderOutput(dataTable, element);\n",
              "        const docLink = document.createElement('div');\n",
              "        docLink.innerHTML = docLinkHtml;\n",
              "        element.appendChild(docLink);\n",
              "      }\n",
              "    </script>\n",
              "  </div>\n",
              "\n",
              "\n",
              "<div id=\"df-0ee32c82-77eb-448b-ba32-6737f05b8c0d\">\n",
              "  <button class=\"colab-df-quickchart\" onclick=\"quickchart('df-0ee32c82-77eb-448b-ba32-6737f05b8c0d')\"\n",
              "            title=\"Suggest charts\"\n",
              "            style=\"display:none;\">\n",
              "\n",
              "<svg xmlns=\"http://www.w3.org/2000/svg\" height=\"24px\"viewBox=\"0 0 24 24\"\n",
              "     width=\"24px\">\n",
              "    <g>\n",
              "        <path d=\"M19 3H5c-1.1 0-2 .9-2 2v14c0 1.1.9 2 2 2h14c1.1 0 2-.9 2-2V5c0-1.1-.9-2-2-2zM9 17H7v-7h2v7zm4 0h-2V7h2v10zm4 0h-2v-4h2v4z\"/>\n",
              "    </g>\n",
              "</svg>\n",
              "  </button>\n",
              "\n",
              "<style>\n",
              "  .colab-df-quickchart {\n",
              "      --bg-color: #E8F0FE;\n",
              "      --fill-color: #1967D2;\n",
              "      --hover-bg-color: #E2EBFA;\n",
              "      --hover-fill-color: #174EA6;\n",
              "      --disabled-fill-color: #AAA;\n",
              "      --disabled-bg-color: #DDD;\n",
              "  }\n",
              "\n",
              "  [theme=dark] .colab-df-quickchart {\n",
              "      --bg-color: #3B4455;\n",
              "      --fill-color: #D2E3FC;\n",
              "      --hover-bg-color: #434B5C;\n",
              "      --hover-fill-color: #FFFFFF;\n",
              "      --disabled-bg-color: #3B4455;\n",
              "      --disabled-fill-color: #666;\n",
              "  }\n",
              "\n",
              "  .colab-df-quickchart {\n",
              "    background-color: var(--bg-color);\n",
              "    border: none;\n",
              "    border-radius: 50%;\n",
              "    cursor: pointer;\n",
              "    display: none;\n",
              "    fill: var(--fill-color);\n",
              "    height: 32px;\n",
              "    padding: 0;\n",
              "    width: 32px;\n",
              "  }\n",
              "\n",
              "  .colab-df-quickchart:hover {\n",
              "    background-color: var(--hover-bg-color);\n",
              "    box-shadow: 0 1px 2px rgba(60, 64, 67, 0.3), 0 1px 3px 1px rgba(60, 64, 67, 0.15);\n",
              "    fill: var(--button-hover-fill-color);\n",
              "  }\n",
              "\n",
              "  .colab-df-quickchart-complete:disabled,\n",
              "  .colab-df-quickchart-complete:disabled:hover {\n",
              "    background-color: var(--disabled-bg-color);\n",
              "    fill: var(--disabled-fill-color);\n",
              "    box-shadow: none;\n",
              "  }\n",
              "\n",
              "  .colab-df-spinner {\n",
              "    border: 2px solid var(--fill-color);\n",
              "    border-color: transparent;\n",
              "    border-bottom-color: var(--fill-color);\n",
              "    animation:\n",
              "      spin 1s steps(1) infinite;\n",
              "  }\n",
              "\n",
              "  @keyframes spin {\n",
              "    0% {\n",
              "      border-color: transparent;\n",
              "      border-bottom-color: var(--fill-color);\n",
              "      border-left-color: var(--fill-color);\n",
              "    }\n",
              "    20% {\n",
              "      border-color: transparent;\n",
              "      border-left-color: var(--fill-color);\n",
              "      border-top-color: var(--fill-color);\n",
              "    }\n",
              "    30% {\n",
              "      border-color: transparent;\n",
              "      border-left-color: var(--fill-color);\n",
              "      border-top-color: var(--fill-color);\n",
              "      border-right-color: var(--fill-color);\n",
              "    }\n",
              "    40% {\n",
              "      border-color: transparent;\n",
              "      border-right-color: var(--fill-color);\n",
              "      border-top-color: var(--fill-color);\n",
              "    }\n",
              "    60% {\n",
              "      border-color: transparent;\n",
              "      border-right-color: var(--fill-color);\n",
              "    }\n",
              "    80% {\n",
              "      border-color: transparent;\n",
              "      border-right-color: var(--fill-color);\n",
              "      border-bottom-color: var(--fill-color);\n",
              "    }\n",
              "    90% {\n",
              "      border-color: transparent;\n",
              "      border-bottom-color: var(--fill-color);\n",
              "    }\n",
              "  }\n",
              "</style>\n",
              "\n",
              "  <script>\n",
              "    async function quickchart(key) {\n",
              "      const quickchartButtonEl =\n",
              "        document.querySelector('#' + key + ' button');\n",
              "      quickchartButtonEl.disabled = true;  // To prevent multiple clicks.\n",
              "      quickchartButtonEl.classList.add('colab-df-spinner');\n",
              "      try {\n",
              "        const charts = await google.colab.kernel.invokeFunction(\n",
              "            'suggestCharts', [key], {});\n",
              "      } catch (error) {\n",
              "        console.error('Error during call to suggestCharts:', error);\n",
              "      }\n",
              "      quickchartButtonEl.classList.remove('colab-df-spinner');\n",
              "      quickchartButtonEl.classList.add('colab-df-quickchart-complete');\n",
              "    }\n",
              "    (() => {\n",
              "      let quickchartButtonEl =\n",
              "        document.querySelector('#df-0ee32c82-77eb-448b-ba32-6737f05b8c0d button');\n",
              "      quickchartButtonEl.style.display =\n",
              "        google.colab.kernel.accessAllowed ? 'block' : 'none';\n",
              "    })();\n",
              "  </script>\n",
              "</div>\n",
              "\n",
              "    </div>\n",
              "  </div>\n"
            ],
            "application/vnd.google.colaboratory.intrinsic+json": {
              "type": "dataframe",
              "variable_name": "data",
              "summary": "{\n  \"name\": \"data\",\n  \"rows\": 176,\n  \"fields\": [\n    {\n      \"column\": \"sentiment\",\n      \"properties\": {\n        \"dtype\": \"category\",\n        \"num_unique_values\": 2,\n        \"samples\": [\n          \"negative\",\n          \"positive\"\n        ],\n        \"semantic_type\": \"\",\n        \"description\": \"\"\n      }\n    },\n    {\n      \"column\": \"term\",\n      \"properties\": {\n        \"dtype\": \"string\",\n        \"num_unique_values\": 176,\n        \"samples\": [\n          \"\\u0645\\u0632\\u062f\\u0647\\u0631\",\n          \"\\u0645\\u062d\\u0628\"\n        ],\n        \"semantic_type\": \"\",\n        \"description\": \"\"\n      }\n    }\n  ]\n}"
            }
          },
          "metadata": {},
          "execution_count": 11
        }
      ]
    },
    {
      "cell_type": "code",
      "source": [
        "data = data.drop_duplicates()"
      ],
      "metadata": {
        "id": "gEjQaOFVZlbP"
      },
      "execution_count": 12,
      "outputs": []
    },
    {
      "cell_type": "code",
      "source": [
        "positive_samples = data[data['sentiment'] == 'positive'].sample(n=80, random_state=42)\n",
        "negative_samples = data[data['sentiment'] == 'negative'].sample(n=80, random_state=42)"
      ],
      "metadata": {
        "id": "QCP-qCqeZKt-"
      },
      "execution_count": 13,
      "outputs": []
    },
    {
      "cell_type": "code",
      "source": [
        "sampled_data = pd.concat([positive_samples, negative_samples])"
      ],
      "metadata": {
        "id": "-CHnAloyZOlM"
      },
      "execution_count": 14,
      "outputs": []
    },
    {
      "cell_type": "code",
      "source": [
        "output_path = '/content/drive/MyDrive/Data Mining Project/New Data/processed_sentiment_terms.csv'\n",
        "sampled_data.to_csv(output_path, index=False)\n",
        "\n",
        "print(f\"Sampled data saved to {output_path}\")"
      ],
      "metadata": {
        "colab": {
          "base_uri": "https://localhost:8080/"
        },
        "id": "KrUzcKqEZP1-",
        "outputId": "9dd3904b-0c49-4bce-e46a-bee848788e6b"
      },
      "execution_count": 15,
      "outputs": [
        {
          "output_type": "stream",
          "name": "stdout",
          "text": [
            "Sampled data saved to /content/drive/MyDrive/Data Mining Project/New Data/processed_sentiment_terms.csv\n"
          ]
        }
      ]
    },
    {
      "cell_type": "code",
      "source": [
        "file_path = \"/content/drive/MyDrive/Data Mining Project/New Data/culture_terms.csv\"\n",
        "\n",
        "data = pd.read_csv(file_path)\n",
        "\n",
        "data.head(), data.info()"
      ],
      "metadata": {
        "colab": {
          "base_uri": "https://localhost:8080/"
        },
        "id": "2kI0WURiZUBN",
        "outputId": "c8edd664-de85-4fb8-eff9-231a7c05b162"
      },
      "execution_count": 24,
      "outputs": [
        {
          "output_type": "stream",
          "name": "stdout",
          "text": [
            "<class 'pandas.core.frame.DataFrame'>\n",
            "RangeIndex: 8810 entries, 0 to 8809\n",
            "Data columns (total 3 columns):\n",
            " #   Column   Non-Null Count  Dtype \n",
            "---  ------   --------------  ----- \n",
            " 0   culture  8810 non-null   object\n",
            " 1   entity   8810 non-null   object\n",
            " 2   term     8810 non-null   object\n",
            "dtypes: object(3)\n",
            "memory usage: 206.6+ KB\n"
          ]
        },
        {
          "output_type": "execute_result",
          "data": {
            "text/plain": [
              "(  culture     entity        term\n",
              " 0    Arab  Beverage   قهوة عربية\n",
              " 1    Arab  Beverage      شاي كرك\n",
              " 2    Arab  Beverage        نعناع\n",
              " 3    Arab  Beverage       زنجبيل\n",
              " 4    Arab  Beverage       كركديه,\n",
              " None)"
            ]
          },
          "metadata": {},
          "execution_count": 24
        }
      ]
    },
    {
      "cell_type": "code",
      "source": [
        "data = data.drop_duplicates()\n",
        "data.info()"
      ],
      "metadata": {
        "colab": {
          "base_uri": "https://localhost:8080/"
        },
        "id": "xHVnX70fbM5X",
        "outputId": "cb84eb70-8bb4-4c6e-ab35-5d6bca0adb1f"
      },
      "execution_count": 25,
      "outputs": [
        {
          "output_type": "stream",
          "name": "stdout",
          "text": [
            "<class 'pandas.core.frame.DataFrame'>\n",
            "Index: 8753 entries, 0 to 8809\n",
            "Data columns (total 3 columns):\n",
            " #   Column   Non-Null Count  Dtype \n",
            "---  ------   --------------  ----- \n",
            " 0   culture  8753 non-null   object\n",
            " 1   entity   8753 non-null   object\n",
            " 2   term     8753 non-null   object\n",
            "dtypes: object(3)\n",
            "memory usage: 273.5+ KB\n"
          ]
        }
      ]
    },
    {
      "cell_type": "code",
      "source": [
        "\n",
        "def sample_terms(group):\n",
        "    if len(group) < 10:\n",
        "        return group\n",
        "    return group.sample(n=20, random_state=42)\n",
        "\n",
        "sampled_data = data.groupby(['culture', 'entity'], group_keys=False).apply(sample_terms)\n",
        "\n",
        "total_terms = sampled_data.shape[0]\n",
        "\n",
        "print(f\"Total terms sampled: {total_terms}\")\n",
        "if total_terms < 400:\n",
        "    print(\"Not all groups had enough terms to sample from. The dataset will contain fewer than 400 terms.\")\n",
        "\n",
        "output_path = \"/content/drive/MyDrive/Data Mining Project/New Data/processed_culture_terms.csv\"\n",
        "sampled_data.to_csv(output_path, index=False)\n",
        "\n",
        "print(f\"Sampled data saved to {output_path}\")"
      ],
      "metadata": {
        "colab": {
          "base_uri": "https://localhost:8080/"
        },
        "id": "xT2q1sHwbRLF",
        "outputId": "86f62dd9-a13c-4cf1-acaf-20cb3c2a3d74"
      },
      "execution_count": 26,
      "outputs": [
        {
          "output_type": "stream",
          "name": "stdout",
          "text": [
            "Total terms sampled: 400\n",
            "Sampled data saved to /content/drive/MyDrive/Data Mining Project/New Data/processed_culture_terms.csv\n"
          ]
        },
        {
          "output_type": "stream",
          "name": "stderr",
          "text": [
            "<ipython-input-26-3bd0e0417f24>:8: DeprecationWarning: DataFrameGroupBy.apply operated on the grouping columns. This behavior is deprecated, and in a future version of pandas the grouping columns will be excluded from the operation. Either pass `include_groups=False` to exclude the groupings or explicitly select the grouping columns after groupby to silence this warning.\n",
            "  sampled_data = data.groupby(['culture', 'entity'], group_keys=False).apply(sample_terms)\n"
          ]
        }
      ]
    },
    {
      "cell_type": "code",
      "source": [
        "file_path = '/content/drive/MyDrive/Data Mining Project/New Data/camelag-prompts-masked-lms (3).xlsx'\n",
        "data = pd.read_excel(file_path)\n",
        "\n",
        "data.head(), data.info()"
      ],
      "metadata": {
        "colab": {
          "base_uri": "https://localhost:8080/"
        },
        "id": "1Jw8dAr6bd-_",
        "outputId": "950f8a0c-e105-443b-8c8c-4308af652371"
      },
      "execution_count": 31,
      "outputs": [
        {
          "output_type": "stream",
          "name": "stdout",
          "text": [
            "<class 'pandas.core.frame.DataFrame'>\n",
            "RangeIndex: 151 entries, 0 to 150\n",
            "Data columns (total 3 columns):\n",
            " #   Column       Non-Null Count  Dtype \n",
            "---  ------       --------------  ----- \n",
            " 0   Entity Type  151 non-null    object\n",
            " 1   Prompt       151 non-null    object\n",
            " 2   Sentiment    151 non-null    object\n",
            "dtypes: object(3)\n",
            "memory usage: 3.7+ KB\n"
          ]
        },
        {
          "output_type": "execute_result",
          "data": {
            "text/plain": [
              "(  Entity Type                                             Prompt Sentiment\n",
              " 0    Beverage  ابتسم و اضحك في وجه عداي و أمشّيها و اتفنّن في...   neutral\n",
              " 1    Beverage              انا أشرب [MASK] وفي الليل انام بسرعة    neutral\n",
              " 2    Beverage  غدًا الحفلة الموسيقية لكن حلقي جاف جدًا الآن ل...   neutral\n",
              " 3    Beverage                             انا اشرب [MASK] في كوب   neutral\n",
              " 4    Beverage  اللى يدفعوا الأغلب ماعندهم فلوس بس عشان شوفونى...   neutral,\n",
              " None)"
            ]
          },
          "metadata": {},
          "execution_count": 31
        }
      ]
    },
    {
      "cell_type": "code",
      "source": [
        "data = data.drop_duplicates()\n"
      ],
      "metadata": {
        "id": "MVTgwnbsdKp2"
      },
      "execution_count": 32,
      "outputs": []
    },
    {
      "cell_type": "code",
      "source": [
        "def sample_per_entity(group):\n",
        "    return group.sample(n=5, random_state=42) if len(group) >= 5 else group\n",
        "\n",
        "sampled_data = data.groupby('Entity Type', group_keys=False).apply(sample_per_entity)"
      ],
      "metadata": {
        "colab": {
          "base_uri": "https://localhost:8080/"
        },
        "id": "AKcfIu0PdMKG",
        "outputId": "4b11b249-69da-4b5b-b515-f4f5e9a3b5e4"
      },
      "execution_count": 33,
      "outputs": [
        {
          "output_type": "stream",
          "name": "stderr",
          "text": [
            "<ipython-input-33-5721cad2bb83>:4: DeprecationWarning: DataFrameGroupBy.apply operated on the grouping columns. This behavior is deprecated, and in a future version of pandas the grouping columns will be excluded from the operation. Either pass `include_groups=False` to exclude the groupings or explicitly select the grouping columns after groupby to silence this warning.\n",
            "  sampled_data = data.groupby('Entity Type', group_keys=False).apply(sample_per_entity)\n"
          ]
        }
      ]
    },
    {
      "cell_type": "code",
      "source": [
        "output_path = '/content/drive/MyDrive/Data Mining Project/New Data/step1-processed-camelag-prompts-masked-lms.xlsx'\n",
        "sampled_data.to_excel(output_path, index=False)\n",
        "\n",
        "print(f\"Sampled data saved to {output_path}\")"
      ],
      "metadata": {
        "colab": {
          "base_uri": "https://localhost:8080/"
        },
        "id": "hEk7KrX3dZND",
        "outputId": "ba9f0654-7821-4665-eb4a-5ee1f14bc100"
      },
      "execution_count": 34,
      "outputs": [
        {
          "output_type": "stream",
          "name": "stdout",
          "text": [
            "Sampled data saved to /content/drive/MyDrive/Data Mining Project/New Data/step1-processed-camelag-prompts-masked-lms.xlsx\n"
          ]
        }
      ]
    },
    {
      "cell_type": "code",
      "source": [
        "step1_file_path = '/content/drive/MyDrive/Data Mining Project/New Data/step1-processed-camelag-prompts-masked-lms.xlsx'\n",
        "terms_file_path = '/content/drive/MyDrive/Data Mining Project/New Data/processed_culture_terms.csv'"
      ],
      "metadata": {
        "id": "lMdoLbKidee4"
      },
      "execution_count": 102,
      "outputs": []
    },
    {
      "cell_type": "code",
      "source": [
        "step1_data = pd.read_excel(step1_file_path)\n",
        "terms_data = pd.read_csv(terms_file_path)"
      ],
      "metadata": {
        "id": "nhW3MDiWf9Gv"
      },
      "execution_count": 103,
      "outputs": []
    },
    {
      "cell_type": "code",
      "source": [
        "step1_data['Entity Type'] = step1_data['Entity Type'].str.strip().str.lower()\n",
        "terms_data['entity'] = terms_data['entity'].str.strip().str.lower()"
      ],
      "metadata": {
        "id": "RHX8bgp5mfIc"
      },
      "execution_count": 104,
      "outputs": []
    },
    {
      "cell_type": "code",
      "source": [
        "step1_data['Entity Type'] = step1_data['Entity Type'].replace('location', 'locations')"
      ],
      "metadata": {
        "id": "zNHCwd6vlT8V"
      },
      "execution_count": 105,
      "outputs": []
    },
    {
      "cell_type": "code",
      "source": [
        "terms_data['entity'] = terms_data['entity'].replace('sports clubs', 'sports clubs')"
      ],
      "metadata": {
        "id": "0vTbt1WUj58F"
      },
      "execution_count": 106,
      "outputs": []
    },
    {
      "cell_type": "code",
      "source": [
        "terms_data = terms_data.rename(columns = {\"entity\" : \"Entity Type\"})"
      ],
      "metadata": {
        "id": "dSnZdsCakPuj"
      },
      "execution_count": 107,
      "outputs": []
    },
    {
      "cell_type": "code",
      "source": [
        "step1_data['Entity Type'].value_counts()"
      ],
      "metadata": {
        "colab": {
          "base_uri": "https://localhost:8080/",
          "height": 429
        },
        "id": "YloxVJQCjg10",
        "outputId": "08810007-5127-404f-c5ac-86aee073a096"
      },
      "execution_count": 108,
      "outputs": [
        {
          "output_type": "execute_result",
          "data": {
            "text/plain": [
              "Entity Type\n",
              "authors             5\n",
              "beverage            5\n",
              "clothing-female     5\n",
              "clothing-male       5\n",
              "food                5\n",
              "locations           5\n",
              "names-female        5\n",
              "names-male          5\n",
              "religious places    5\n",
              "sports clubs        5\n",
              "Name: count, dtype: int64"
            ],
            "text/html": [
              "<div>\n",
              "<style scoped>\n",
              "    .dataframe tbody tr th:only-of-type {\n",
              "        vertical-align: middle;\n",
              "    }\n",
              "\n",
              "    .dataframe tbody tr th {\n",
              "        vertical-align: top;\n",
              "    }\n",
              "\n",
              "    .dataframe thead th {\n",
              "        text-align: right;\n",
              "    }\n",
              "</style>\n",
              "<table border=\"1\" class=\"dataframe\">\n",
              "  <thead>\n",
              "    <tr style=\"text-align: right;\">\n",
              "      <th></th>\n",
              "      <th>count</th>\n",
              "    </tr>\n",
              "    <tr>\n",
              "      <th>Entity Type</th>\n",
              "      <th></th>\n",
              "    </tr>\n",
              "  </thead>\n",
              "  <tbody>\n",
              "    <tr>\n",
              "      <th>authors</th>\n",
              "      <td>5</td>\n",
              "    </tr>\n",
              "    <tr>\n",
              "      <th>beverage</th>\n",
              "      <td>5</td>\n",
              "    </tr>\n",
              "    <tr>\n",
              "      <th>clothing-female</th>\n",
              "      <td>5</td>\n",
              "    </tr>\n",
              "    <tr>\n",
              "      <th>clothing-male</th>\n",
              "      <td>5</td>\n",
              "    </tr>\n",
              "    <tr>\n",
              "      <th>food</th>\n",
              "      <td>5</td>\n",
              "    </tr>\n",
              "    <tr>\n",
              "      <th>locations</th>\n",
              "      <td>5</td>\n",
              "    </tr>\n",
              "    <tr>\n",
              "      <th>names-female</th>\n",
              "      <td>5</td>\n",
              "    </tr>\n",
              "    <tr>\n",
              "      <th>names-male</th>\n",
              "      <td>5</td>\n",
              "    </tr>\n",
              "    <tr>\n",
              "      <th>religious places</th>\n",
              "      <td>5</td>\n",
              "    </tr>\n",
              "    <tr>\n",
              "      <th>sports clubs</th>\n",
              "      <td>5</td>\n",
              "    </tr>\n",
              "  </tbody>\n",
              "</table>\n",
              "</div><br><label><b>dtype:</b> int64</label>"
            ]
          },
          "metadata": {},
          "execution_count": 108
        }
      ]
    },
    {
      "cell_type": "code",
      "source": [
        "terms_data['Entity Type'].value_counts()"
      ],
      "metadata": {
        "colab": {
          "base_uri": "https://localhost:8080/",
          "height": 429
        },
        "id": "mHR__O7qkbhu",
        "outputId": "81df6453-aa8f-4ff9-e922-21812f4e6b2b"
      },
      "execution_count": 109,
      "outputs": [
        {
          "output_type": "execute_result",
          "data": {
            "text/plain": [
              "Entity Type\n",
              "authors             40\n",
              "beverage            40\n",
              "clothing-female     40\n",
              "clothing-male       40\n",
              "food                40\n",
              "locations           40\n",
              "names-female        40\n",
              "names-male          40\n",
              "religious places    40\n",
              "sports clubs        40\n",
              "Name: count, dtype: int64"
            ],
            "text/html": [
              "<div>\n",
              "<style scoped>\n",
              "    .dataframe tbody tr th:only-of-type {\n",
              "        vertical-align: middle;\n",
              "    }\n",
              "\n",
              "    .dataframe tbody tr th {\n",
              "        vertical-align: top;\n",
              "    }\n",
              "\n",
              "    .dataframe thead th {\n",
              "        text-align: right;\n",
              "    }\n",
              "</style>\n",
              "<table border=\"1\" class=\"dataframe\">\n",
              "  <thead>\n",
              "    <tr style=\"text-align: right;\">\n",
              "      <th></th>\n",
              "      <th>count</th>\n",
              "    </tr>\n",
              "    <tr>\n",
              "      <th>Entity Type</th>\n",
              "      <th></th>\n",
              "    </tr>\n",
              "  </thead>\n",
              "  <tbody>\n",
              "    <tr>\n",
              "      <th>authors</th>\n",
              "      <td>40</td>\n",
              "    </tr>\n",
              "    <tr>\n",
              "      <th>beverage</th>\n",
              "      <td>40</td>\n",
              "    </tr>\n",
              "    <tr>\n",
              "      <th>clothing-female</th>\n",
              "      <td>40</td>\n",
              "    </tr>\n",
              "    <tr>\n",
              "      <th>clothing-male</th>\n",
              "      <td>40</td>\n",
              "    </tr>\n",
              "    <tr>\n",
              "      <th>food</th>\n",
              "      <td>40</td>\n",
              "    </tr>\n",
              "    <tr>\n",
              "      <th>locations</th>\n",
              "      <td>40</td>\n",
              "    </tr>\n",
              "    <tr>\n",
              "      <th>names-female</th>\n",
              "      <td>40</td>\n",
              "    </tr>\n",
              "    <tr>\n",
              "      <th>names-male</th>\n",
              "      <td>40</td>\n",
              "    </tr>\n",
              "    <tr>\n",
              "      <th>religious places</th>\n",
              "      <td>40</td>\n",
              "    </tr>\n",
              "    <tr>\n",
              "      <th>sports clubs</th>\n",
              "      <td>40</td>\n",
              "    </tr>\n",
              "  </tbody>\n",
              "</table>\n",
              "</div><br><label><b>dtype:</b> int64</label>"
            ]
          },
          "metadata": {},
          "execution_count": 109
        }
      ]
    },
    {
      "cell_type": "code",
      "source": [
        "missing_entities = set(step1_data['Entity Type'].unique()) - set(terms_data['Entity Type'].unique())\n",
        "if missing_entities:\n",
        "    print(f\"Warning: The following Entity Types are missing in terms data: {missing_entities}\")"
      ],
      "metadata": {
        "id": "nI1__egAmJbV"
      },
      "execution_count": 110,
      "outputs": []
    },
    {
      "cell_type": "code",
      "source": [
        "step1_data.head(), step1_data.info(), terms_data.head(), terms_data.info()"
      ],
      "metadata": {
        "colab": {
          "base_uri": "https://localhost:8080/"
        },
        "id": "9T7qaBgMf-eu",
        "outputId": "00bf0033-8358-4916-e53d-479785f7f543"
      },
      "execution_count": 111,
      "outputs": [
        {
          "output_type": "stream",
          "name": "stdout",
          "text": [
            "<class 'pandas.core.frame.DataFrame'>\n",
            "RangeIndex: 50 entries, 0 to 49\n",
            "Data columns (total 3 columns):\n",
            " #   Column       Non-Null Count  Dtype \n",
            "---  ------       --------------  ----- \n",
            " 0   Entity Type  50 non-null     object\n",
            " 1   Prompt       50 non-null     object\n",
            " 2   Sentiment    50 non-null     object\n",
            "dtypes: object(3)\n",
            "memory usage: 1.3+ KB\n",
            "<class 'pandas.core.frame.DataFrame'>\n",
            "RangeIndex: 400 entries, 0 to 399\n",
            "Data columns (total 3 columns):\n",
            " #   Column       Non-Null Count  Dtype \n",
            "---  ------       --------------  ----- \n",
            " 0   culture      400 non-null    object\n",
            " 1   Entity Type  400 non-null    object\n",
            " 2   term         400 non-null    object\n",
            "dtypes: object(3)\n",
            "memory usage: 9.5+ KB\n"
          ]
        },
        {
          "output_type": "execute_result",
          "data": {
            "text/plain": [
              "(  Entity Type                                             Prompt Sentiment\n",
              " 0     authors        [MASK] الهاء الشعوب هو عنوان كتاب للكاتب      neutral\n",
              " 1     authors  حكاية الطموح والتحدي والنجاح والتنافس في عالم ...   neutral\n",
              " 2     authors  تحكم في عملك ووقتك وحياتك أهم 10 نصائح مستخلصة...   neutral\n",
              " 3     authors  من اهم المسروقات هي رسالة تخص نشر كتاب تأملات ...   neutral\n",
              " 4     authors  أوكرانيا... الحربُ التي باتت ضرورة! مقالٌ جديد...   neutral,\n",
              " None,\n",
              "   culture Entity Type               term\n",
              " 0    Arab     authors          جلال أمين\n",
              " 1    Arab     authors        محمود قحطان\n",
              " 2    Arab     authors  أحمد إسماعيل سمتر\n",
              " 3    Arab     authors          ناجي صبري\n",
              " 4    Arab     authors    فيصل سعيد المطر,\n",
              " None)"
            ]
          },
          "metadata": {},
          "execution_count": 111
        }
      ]
    },
    {
      "cell_type": "code",
      "source": [
        "result = []\n",
        "\n",
        "for entity_type in step1_data['Entity Type'].unique():\n",
        "    prompts = step1_data[step1_data['Entity Type'] == entity_type]\n",
        "    terms = terms_data[terms_data['Entity Type'] == entity_type]\n",
        "\n",
        "    for _, prompt_row in prompts.iterrows():\n",
        "        for _, term_row in terms.iterrows():\n",
        "            processed_prompt = prompt_row[\"Prompt\"].replace(\"[MASK]\", term_row[\"term\"])\n",
        "            result.append({\n",
        "                \"Entity Type\": entity_type,\n",
        "                \"Original Prompt\": prompt_row[\"Prompt\"],\n",
        "                \"Processed Prompt\": processed_prompt,\n",
        "                \"Sentiment\": prompt_row[\"Sentiment\"],\n",
        "                \"culture\": term_row[\"culture\"],\n",
        "                \"term\": term_row[\"term\"]\n",
        "            })"
      ],
      "metadata": {
        "id": "HozjuY5piRp9"
      },
      "execution_count": 112,
      "outputs": []
    },
    {
      "cell_type": "code",
      "source": [
        "result_df = pd.DataFrame(result)"
      ],
      "metadata": {
        "id": "Fp1cj6zrigN3"
      },
      "execution_count": 113,
      "outputs": []
    },
    {
      "cell_type": "code",
      "source": [
        "output_path = '/content/drive/MyDrive/Data Mining Project/New Data/prompts.csv'\n",
        "result_df.to_csv(output_path, index=False)\n",
        "\n",
        "print(f\"Generated sentences saved to {output_path}\")"
      ],
      "metadata": {
        "colab": {
          "base_uri": "https://localhost:8080/"
        },
        "id": "D4ES00pSgEpV",
        "outputId": "9e6f42bf-83c6-43cb-ea42-f194128ea6da"
      },
      "execution_count": 114,
      "outputs": [
        {
          "output_type": "stream",
          "name": "stdout",
          "text": [
            "Generated sentences saved to /content/drive/MyDrive/Data Mining Project/New Data/prompts.csv\n"
          ]
        }
      ]
    },
    {
      "cell_type": "code",
      "source": [],
      "metadata": {
        "id": "5JmfqPkggWwn"
      },
      "execution_count": null,
      "outputs": []
    }
  ]
}