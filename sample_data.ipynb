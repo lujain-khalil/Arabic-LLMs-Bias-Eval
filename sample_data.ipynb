{
 "cells": [
  {
   "cell_type": "code",
   "execution_count": 1,
   "metadata": {},
   "outputs": [],
   "source": [
    "import pandas as pd\n",
    "\n",
    "def sample(df, group_cols, n):\n",
    "    return df.groupby(group_cols, group_keys=False).apply(lambda x: x.sample(n=min(len(x), n)))\n",
    "\n",
    "def get_value_counts(df, cols):\n",
    "    for c in cols:\n",
    "        print(df[c].value_counts())\n",
    "\n",
    "def replace_col_name(df, col, old, new):\n",
    "    df[col] = df[col].replace(old, new)\n",
    "    return df\n",
    "\n",
    "def fix_entities(df):\n",
    "    df['entity'] = df['entity'].str.strip().str.lower()\n",
    "    return df"
   ]
  },
  {
   "cell_type": "markdown",
   "metadata": {},
   "source": [
    "## handle full_data"
   ]
  },
  {
   "cell_type": "markdown",
   "metadata": {},
   "source": [
    "#### full_data/sentiment_terms.csv"
   ]
  },
  {
   "cell_type": "code",
   "execution_count": 6,
   "metadata": {},
   "outputs": [
    {
     "name": "stdout",
     "output_type": "stream",
     "text": [
      "Index(['sentiment', 'term'], dtype='object')\n"
     ]
    }
   ],
   "source": [
    "sentiment_full = pd.read_csv('full_data/sentiment_terms.csv')\n",
    "print(sentiment_full.columns)"
   ]
  },
  {
   "cell_type": "code",
   "execution_count": 7,
   "metadata": {},
   "outputs": [
    {
     "name": "stdout",
     "output_type": "stream",
     "text": [
      "sentiment\n",
      "positive    80\n",
      "negative    80\n",
      "Name: count, dtype: int64\n"
     ]
    }
   ],
   "source": [
    "get_value_counts(sentiment_full, ['sentiment'])"
   ]
  },
  {
   "cell_type": "code",
   "execution_count": 9,
   "metadata": {},
   "outputs": [
    {
     "name": "stdout",
     "output_type": "stream",
     "text": [
      "sentiment\n",
      "negative    20\n",
      "positive    20\n",
      "Name: count, dtype: int64\n"
     ]
    }
   ],
   "source": [
    "sentiment_sampled = sample(sentiment_full, ['sentiment'], 20)\n",
    "get_value_counts(sentiment_sampled, ['sentiment'])"
   ]
  },
  {
   "cell_type": "code",
   "execution_count": 10,
   "metadata": {},
   "outputs": [],
   "source": [
    "sentiment_sampled.to_csv('data/sentiment_terms.csv', index=False)"
   ]
  },
  {
   "cell_type": "markdown",
   "metadata": {},
   "source": [
    "#### full_data/culture_terms.csv"
   ]
  },
  {
   "cell_type": "code",
   "execution_count": 11,
   "metadata": {},
   "outputs": [
    {
     "name": "stdout",
     "output_type": "stream",
     "text": [
      "Index(['culture', 'entity', 'term'], dtype='object')\n"
     ]
    }
   ],
   "source": [
    "culture_full = pd.read_csv('full_data/culture_terms.csv')\n",
    "print(culture_full.columns)"
   ]
  },
  {
   "cell_type": "code",
   "execution_count": 12,
   "metadata": {},
   "outputs": [
    {
     "name": "stdout",
     "output_type": "stream",
     "text": [
      "culture\n",
      "Arab       200\n",
      "Western    200\n",
      "Name: count, dtype: int64\n",
      "entity\n",
      "Authors             40\n",
      "Beverage            40\n",
      "Clothing-Female     40\n",
      "Clothing-Male       40\n",
      "Food                40\n",
      "Location            40\n",
      "Names-Female        40\n",
      "Names-Male          40\n",
      "Religious Places    40\n",
      "Sports Clubs        40\n",
      "Name: count, dtype: int64\n"
     ]
    }
   ],
   "source": [
    "get_value_counts(culture_full, ['culture', 'entity'])"
   ]
  },
  {
   "cell_type": "code",
   "execution_count": 15,
   "metadata": {},
   "outputs": [
    {
     "name": "stdout",
     "output_type": "stream",
     "text": [
      "culture\n",
      "Arab       200\n",
      "Western    200\n",
      "Name: count, dtype: int64\n",
      "entity\n",
      "authors             40\n",
      "beverage            40\n",
      "clothing-female     40\n",
      "clothing-male       40\n",
      "food                40\n",
      "location            40\n",
      "names-female        40\n",
      "names-male          40\n",
      "religious places    40\n",
      "sports clubs        40\n",
      "Name: count, dtype: int64\n"
     ]
    }
   ],
   "source": [
    "fix_entities(culture_full)\n",
    "get_value_counts(culture_full, ['culture', 'entity'])"
   ]
  },
  {
   "cell_type": "code",
   "execution_count": 16,
   "metadata": {},
   "outputs": [
    {
     "name": "stdout",
     "output_type": "stream",
     "text": [
      "culture\n",
      "Arab       50\n",
      "Western    50\n",
      "Name: count, dtype: int64\n",
      "entity\n",
      "authors             10\n",
      "beverage            10\n",
      "clothing-female     10\n",
      "clothing-male       10\n",
      "food                10\n",
      "location            10\n",
      "names-female        10\n",
      "names-male          10\n",
      "religious places    10\n",
      "sports clubs        10\n",
      "Name: count, dtype: int64\n"
     ]
    }
   ],
   "source": [
    "culture_sampled = sample(culture_full, ['culture', 'entity'], 5)\n",
    "get_value_counts(culture_sampled, ['culture', 'entity'])"
   ]
  },
  {
   "cell_type": "code",
   "execution_count": 19,
   "metadata": {},
   "outputs": [],
   "source": [
    "culture_sampled.to_csv('data/culture_terms.csv', index=False)\n",
    "culture_full.to_csv('full_data/culture_terms.csv', index=False)"
   ]
  },
  {
   "cell_type": "markdown",
   "metadata": {},
   "source": [
    "#### full_data/context_sentences.csv"
   ]
  },
  {
   "cell_type": "code",
   "execution_count": 21,
   "metadata": {},
   "outputs": [
    {
     "name": "stdout",
     "output_type": "stream",
     "text": [
      "Index(['Entity Type', 'Original Prompt', 'Processed Prompt', 'Sentiment',\n",
      "       'culture', 'term'],\n",
      "      dtype='object')\n"
     ]
    }
   ],
   "source": [
    "context_full = pd.read_csv('full_data/context_sentences.csv')\n",
    "print(context_full.columns)"
   ]
  },
  {
   "cell_type": "code",
   "execution_count": 23,
   "metadata": {},
   "outputs": [
    {
     "name": "stdout",
     "output_type": "stream",
     "text": [
      "Index(['entity', 'sentence', 'culture'], dtype='object')\n"
     ]
    }
   ],
   "source": [
    "context_full = context_full.rename(columns={'Entity Type': 'entity'})\n",
    "context_full = context_full.rename(columns={'Processed Prompt': 'sentence'})\n",
    "context_full = context_full.drop(columns=['Original Prompt', 'term', 'Sentiment'])\n",
    "\n",
    "print(context_full.columns)"
   ]
  },
  {
   "cell_type": "code",
   "execution_count": 25,
   "metadata": {},
   "outputs": [
    {
     "name": "stdout",
     "output_type": "stream",
     "text": [
      "culture\n",
      "Arab       1000\n",
      "Western    1000\n",
      "Name: count, dtype: int64\n",
      "entity\n",
      "authors             200\n",
      "beverage            200\n",
      "clothing-female     200\n",
      "clothing-male       200\n",
      "food                200\n",
      "locations           200\n",
      "names-female        200\n",
      "names-male          200\n",
      "religious places    200\n",
      "sports clubs        200\n",
      "Name: count, dtype: int64\n"
     ]
    }
   ],
   "source": [
    "fix_entities(context_full)\n",
    "get_value_counts(context_full, ['culture', 'entity'])"
   ]
  },
  {
   "cell_type": "code",
   "execution_count": 26,
   "metadata": {},
   "outputs": [],
   "source": [
    "context_full.to_csv('full_data/context_sentences.csv', index=False)"
   ]
  },
  {
   "cell_type": "markdown",
   "metadata": {},
   "source": [
    "#### full_data/neutral_sentences.xlsx"
   ]
  },
  {
   "cell_type": "code",
   "execution_count": 29,
   "metadata": {},
   "outputs": [
    {
     "name": "stdout",
     "output_type": "stream",
     "text": [
      "Index(['Entity Type', 'Prompt', 'Sentiment'], dtype='object')\n"
     ]
    }
   ],
   "source": [
    "neutral_full = pd.read_excel('full_data/neutral_sentences.xlsx')\n",
    "print(neutral_full.columns)"
   ]
  },
  {
   "cell_type": "code",
   "execution_count": 30,
   "metadata": {},
   "outputs": [
    {
     "name": "stdout",
     "output_type": "stream",
     "text": [
      "Index(['entity', 'sentence'], dtype='object')\n"
     ]
    }
   ],
   "source": [
    "neutral_full = neutral_full.rename(columns={'Entity Type': 'entity'})\n",
    "neutral_full = neutral_full.rename(columns={'Prompt': 'sentence'})\n",
    "neutral_full = neutral_full.drop(columns=['Sentiment'])\n",
    "\n",
    "print(neutral_full.columns)"
   ]
  },
  {
   "cell_type": "code",
   "execution_count": 32,
   "metadata": {},
   "outputs": [
    {
     "name": "stdout",
     "output_type": "stream",
     "text": [
      "entity\n",
      "authors             5\n",
      "beverage            5\n",
      "clothing-female     5\n",
      "clothing-male       5\n",
      "food                5\n",
      "location            5\n",
      "names-female        5\n",
      "names-male          5\n",
      "religious places    5\n",
      "sports clubs        5\n",
      "Name: count, dtype: int64\n"
     ]
    }
   ],
   "source": [
    "fix_entities(neutral_full)\n",
    "get_value_counts(neutral_full, ['entity'])"
   ]
  },
  {
   "cell_type": "code",
   "execution_count": 33,
   "metadata": {},
   "outputs": [],
   "source": [
    "neutral_full.to_csv('full_data/neutral_sentences.csv', index=False)"
   ]
  },
  {
   "cell_type": "code",
   "execution_count": 36,
   "metadata": {},
   "outputs": [
    {
     "name": "stdout",
     "output_type": "stream",
     "text": [
      "entity\n",
      "authors             3\n",
      "beverage            3\n",
      "clothing-female     3\n",
      "clothing-male       3\n",
      "food                3\n",
      "location            3\n",
      "names-female        3\n",
      "names-male          3\n",
      "religious places    3\n",
      "sports clubs        3\n",
      "Name: count, dtype: int64\n"
     ]
    }
   ],
   "source": [
    "neutral_sampled = sample(neutral_full, ['entity'], 3)\n",
    "get_value_counts(neutral_sampled, ['entity'])"
   ]
  },
  {
   "cell_type": "code",
   "execution_count": 37,
   "metadata": {},
   "outputs": [],
   "source": [
    "neutral_sampled.to_csv('data/neutral_sentences.csv', index=False)"
   ]
  },
  {
   "cell_type": "markdown",
   "metadata": {},
   "source": [
    "## generate sampled context sentences"
   ]
  },
  {
   "cell_type": "code",
   "execution_count": 3,
   "metadata": {},
   "outputs": [
    {
     "name": "stdout",
     "output_type": "stream",
     "text": [
      "culture\n",
      "Arab       50\n",
      "Western    50\n",
      "Name: count, dtype: int64\n",
      "entity\n",
      "authors             10\n",
      "beverage            10\n",
      "clothing-female     10\n",
      "clothing-male       10\n",
      "food                10\n",
      "location            10\n",
      "names-female        10\n",
      "names-male          10\n",
      "religious places    10\n",
      "sports clubs        10\n",
      "Name: count, dtype: int64\n"
     ]
    }
   ],
   "source": [
    "culture_sampled = pd.read_csv('data/culture_terms.csv')\n",
    "get_value_counts(culture_sampled, ['culture', 'entity'])"
   ]
  },
  {
   "cell_type": "code",
   "execution_count": 7,
   "metadata": {},
   "outputs": [
    {
     "name": "stdout",
     "output_type": "stream",
     "text": [
      "Index(['entity', 'sentence'], dtype='object')\n",
      "entity\n",
      "authors             3\n",
      "beverage            3\n",
      "clothing-female     3\n",
      "clothing-male       3\n",
      "food                3\n",
      "location            3\n",
      "names-female        3\n",
      "names-male          3\n",
      "religious places    3\n",
      "sports clubs        3\n",
      "Name: count, dtype: int64\n"
     ]
    }
   ],
   "source": [
    "neutral_sampled = pd.read_csv('data/neutral_sentences.csv')\n",
    "print(neutral_sampled.columns)\n",
    "get_value_counts(neutral_sampled, ['entity'])"
   ]
  },
  {
   "cell_type": "code",
   "execution_count": 8,
   "metadata": {},
   "outputs": [],
   "source": [
    "rows_list = []\n",
    "\n",
    "for _, row in neutral_sampled.iterrows():\n",
    "    entity_type = row['entity']\n",
    "    prompt = row['sentence']\n",
    "    \n",
    "    filtered_terms = culture_sampled[culture_sampled['entity'] == entity_type]\n",
    "    \n",
    "    for _, term_row in filtered_terms.iterrows():\n",
    "        culture = term_row['culture']\n",
    "        entity = term_row['entity']\n",
    "        term = term_row['term']\n",
    "        \n",
    "        sentence = prompt.replace('[MASK]', term)\n",
    "        \n",
    "        rows_list.append({'culture': culture, 'entity': entity, 'sentence': sentence})\n",
    "\n",
    "context_sampled = pd.DataFrame(rows_list)"
   ]
  },
  {
   "cell_type": "code",
   "execution_count": 9,
   "metadata": {},
   "outputs": [
    {
     "name": "stdout",
     "output_type": "stream",
     "text": [
      "culture\n",
      "Arab       150\n",
      "Western    150\n",
      "Name: count, dtype: int64\n",
      "entity\n",
      "authors             30\n",
      "beverage            30\n",
      "clothing-female     30\n",
      "clothing-male       30\n",
      "food                30\n",
      "location            30\n",
      "names-female        30\n",
      "names-male          30\n",
      "religious places    30\n",
      "sports clubs        30\n",
      "Name: count, dtype: int64\n"
     ]
    }
   ],
   "source": [
    "get_value_counts(context_sampled, ['culture', 'entity'])"
   ]
  },
  {
   "cell_type": "code",
   "execution_count": 10,
   "metadata": {},
   "outputs": [
    {
     "data": {
      "text/plain": [
       "(300, 3)"
      ]
     },
     "execution_count": 10,
     "metadata": {},
     "output_type": "execute_result"
    }
   ],
   "source": [
    "context_sampled.shape"
   ]
  },
  {
   "cell_type": "code",
   "execution_count": 11,
   "metadata": {},
   "outputs": [],
   "source": [
    "context_sampled.to_csv('data/context_sentences.csv', index=False)"
   ]
  }
 ],
 "metadata": {
  "kernelspec": {
   "display_name": "mlr503",
   "language": "python",
   "name": "python3"
  },
  "language_info": {
   "codemirror_mode": {
    "name": "ipython",
    "version": 3
   },
   "file_extension": ".py",
   "mimetype": "text/x-python",
   "name": "python",
   "nbconvert_exporter": "python",
   "pygments_lexer": "ipython3",
   "version": "3.8.20"
  }
 },
 "nbformat": 4,
 "nbformat_minor": 2
}
